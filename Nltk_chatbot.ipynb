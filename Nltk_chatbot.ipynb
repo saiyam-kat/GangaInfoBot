{
  "nbformat": 4,
  "nbformat_minor": 0,
  "metadata": {
    "colab": {
      "provenance": [],
      "mount_file_id": "1_UNLTu01biZ1wEqO3Z8-HHX6FklbJW5k",
      "authorship_tag": "ABX9TyPmEfBNIjqBlLSikZnQ8z/b",
      "include_colab_link": true
    },
    "kernelspec": {
      "name": "python3",
      "display_name": "Python 3"
    },
    "language_info": {
      "name": "python"
    }
  },
  "cells": [
    {
      "cell_type": "markdown",
      "metadata": {
        "id": "view-in-github",
        "colab_type": "text"
      },
      "source": [
        "<a href=\"https://colab.research.google.com/github/saiyam-kat/GangaInfoBot/blob/main/Nltk_chatbot.ipynb\" target=\"_parent\"><img src=\"https://colab.research.google.com/assets/colab-badge.svg\" alt=\"Open In Colab\"/></a>"
      ]
    },
    {
      "cell_type": "markdown",
      "source": [],
      "metadata": {
        "id": "IkE-rET3ihAZ"
      }
    },
    {
      "cell_type": "code",
      "execution_count": 3,
      "metadata": {
        "id": "L38nG-4cY_Xb",
        "colab": {
          "base_uri": "https://localhost:8080/",
          "height": 123
        },
        "outputId": "3de57c49-c6dd-4d4f-8f2d-e55e2268e7b1"
      },
      "outputs": [
        {
          "output_type": "execute_result",
          "data": {
            "text/plain": [
              "\"\\ufeffThe history of the Ganga River, also known as the Ganges, is deeply intertwined with the cultural, spiritual, and environmental heritage of India. It has played a central role in the development of civilization, religion, and trade in the Indian subcontinent for thousands of years. Here's an overview of its rich history:\\n\\n1. Ancient Times:\\n   - The Ganga River has been mentioned in the oldest Indian scriptures, the Rigveda, which dates back to around 1500 BCE.\\n   - It was revered as a sacred river by the ancient people, and they believed that bathing in its waters could cleanse them of sins.\\n   - Several ancient cities, including Varanasi and Prayagraj, were established along its banks, becoming centers of culture, religion, and trade.\\n\\n2. Mauryan Empire (4th to 2nd century BCE):\\n   - During the reign of Emperor Chandragupta Maurya and his successors, the Ganga River became a vital trade route, connecting the heartland of India to the northern regions and beyond.\\n\\n3. Gupta Empire (4th to 6th century CE):\\n   - The Gupta Empire further promoted the cultural and religious significance of the Ganga River.\\n   - The Kumbh Mela, one of the largest religious gatherings in the world, has its origins in this period, as devotees gathered to bathe in the sacred waters to purify their souls.\\n\\n4. Medieval Period:\\n   - The Ganga River continued to be a lifeline for trade and agriculture in the region, and several dynasties, such as the Mughals, recognized its importance.\\n   - It was during this time that the Ganga became a symbol of India's spiritual and cultural identity, with numerous temples and ghats constructed along its banks.\\n\\n5. British Colonial Era (18th to 20th century):\\n   - The British recognized the strategic and economic importance of the Ganga and developed the river for navigation, building canals and railways along its course.\\n   - However, this also led to increased pollution and environmental degradation.\\n\\n6. Independence and Post-Independence Period:\\n   - After India gained independence in 1947, efforts were made to clean and protect the Ganga River.\\n   - The Ganga Action Plan was launched in the 1980s to address pollution and promote conservation.\\n   - In 2014, the Indian government launched the Namami Gange project, an ambitious plan to rejuvenate and clean the Ganga River.\\n\\n7. Contemporary Challenges:\\n   - Despite efforts to clean the Ganga, pollution remains a significant challenge, with industrial and domestic waste, as well as religious rituals, contributing to contamination.\\n   - The Ganga River Basin is also vulnerable to climate change, with changing rainfall patterns and glacier melt affecting its flow and water quality.\\n\\nToday, the Ganga River continues to hold immense cultural and spiritual significance for millions of people in India. It is not only a symbol of religious purity but also a source of livelihood and a vital natural resource. Efforts to protect and rejuvenate the Ganga are ongoing, reflecting its enduring importance in the history and future of India.\""
            ],
            "application/vnd.google.colaboratory.intrinsic+json": {
              "type": "string"
            }
          },
          "metadata": {},
          "execution_count": 3
        }
      ],
      "source": [
        "import numpy as np\n",
        "import nltk\n",
        "import string\n",
        "import random\n",
        "\n",
        "f = open('/content/data.txt','r',errors='ignor')\n",
        "raw_doc = f.read()\n",
        "raw_doc"
      ]
    },
    {
      "cell_type": "code",
      "source": [
        "raw_doc = raw_doc.lower() #converting entire text into lowercase\n",
        "nltk.download('punkt') #using the punkt tokenizer\n",
        "nltk.download('wordnet')# using\n",
        "nltk.download('omw-1.4')\n",
        "sentence_tokens =  nltk.sent_tokenize(raw_doc)\n",
        "word_tokens = nltk.word_tokenize(raw_doc)"
      ],
      "metadata": {
        "id": "Vwzf4N5zLxiY",
        "colab": {
          "base_uri": "https://localhost:8080/"
        },
        "outputId": "a863f299-8e1e-43c3-eaa6-4c573c6b3df7"
      },
      "execution_count": 4,
      "outputs": [
        {
          "output_type": "stream",
          "name": "stderr",
          "text": [
            "[nltk_data] Downloading package punkt to /root/nltk_data...\n",
            "[nltk_data]   Unzipping tokenizers/punkt.zip.\n",
            "[nltk_data] Downloading package wordnet to /root/nltk_data...\n",
            "[nltk_data] Downloading package omw-1.4 to /root/nltk_data...\n"
          ]
        }
      ]
    },
    {
      "cell_type": "code",
      "source": [
        "\n",
        "\n",
        "sentence_tokens = nltk.sent_tokenize(raw_doc)\n",
        "word_tokens = nltk.word_tokenize(raw_doc)"
      ],
      "metadata": {
        "id": "KYUaj3WlMeMU"
      },
      "execution_count": 5,
      "outputs": []
    },
    {
      "cell_type": "code",
      "source": [
        "lemmer =  nltk.stem.WordNetLemmatizer()\n",
        "def LemTokens(tokens):\n",
        "    return[lemmer.lemmatize(tokens) for token in tokens ]\n",
        "remove_punc_dict = dict((ord(punct), None) for punct in string.punctuation)\n",
        "def LemNormalize(text):\n",
        "    return LemTokens(nltk.word_tokenize(text.lower().translate(remove_punc_dict)))\n"
      ],
      "metadata": {
        "id": "GW5DvrvHMvV1"
      },
      "execution_count": 6,
      "outputs": []
    },
    {
      "cell_type": "code",
      "source": [
        "greet_inputs = ('hello','hi','whassup','how are you?')\n",
        "greet_responses = ('hi', 'Hey','Hey There!','There there !!' )\n",
        "def greet(sentence):\n",
        "    for word in sentence.split():\n",
        "        if word.lower() in greet_inputs:\n",
        "            return random.choice(greet_responses)"
      ],
      "metadata": {
        "id": "98n_kPVkNtq2"
      },
      "execution_count": 7,
      "outputs": []
    },
    {
      "cell_type": "code",
      "source": [
        "from sklearn.feature_extraction.text import TfidfVectorizer\n",
        "from sklearn.metrics.pairwise import cosine_similarity"
      ],
      "metadata": {
        "id": "tS-EuWlrN0Rq"
      },
      "execution_count": 8,
      "outputs": []
    },
    {
      "cell_type": "code",
      "source": [
        "\n",
        "def response(user_response):\n",
        "    robo1_response = ''\n",
        "    TfidfVec =TfidfVectorizer(tokenizer = LemNormalize, stop_words = 'english')\n",
        "    Tfidf = TfidfVec.fit_transform(sentence_tokens)\n",
        "    vals = cosine_similarity(Tfidf[-1],Tfidf)\n",
        "    idx = vals.argsort()[0][-2]\n",
        "    flat = vals.flatten()\n",
        "    flat.sort()\n",
        "    req_tfidf = flat[-2]\n",
        "    if (req_tfidf == 0):\n",
        "        robo1_response = robo1_response + \"I am sorry. Unable to understand you!\"\n",
        "        return robo1_response\n",
        "    else:\n",
        "        robo1_response =robo1_response+ sentence_tokens[idx]\n",
        "        return robo1_response\n"
      ],
      "metadata": {
        "id": "-LlhYlG6N3ld"
      },
      "execution_count": 9,
      "outputs": []
    },
    {
      "cell_type": "code",
      "source": [
        "\n",
        "flag = True\n",
        "print('Hello! I am the retrival Learning Bot, Start typing your text after greeting to talk to me. For ending convo type by! ')\n",
        "while(flag == True):\n",
        "    user_response = input()\n",
        "    user_response = user_response.lower()\n",
        "    if(user_response != 'bye'):\n",
        "        if(user_response == 'thank you' or user_response == 'thanks'):\n",
        "            flag = False\n",
        "            print('Bot: You are Welcome ')\n",
        "        else:\n",
        "            if(greet(user_response) != None):\n",
        "              print('Bot: '+ greet(user_response))\n",
        "            else:\n",
        "              sentence_tokens.append(user_response)\n",
        "              word_tokens = word_tokens + nltk.word_tokenize(user_response)\n",
        "              final_words = list(set(word_tokens))\n",
        "              print('Bot: ', end='')\n",
        "              print(response(user_response))\n",
        "              sentence_tokens.remove(user_response)\n",
        "    else:\n",
        "        flag = False\n",
        "        print('Bot: Goodbye')"
      ],
      "metadata": {
        "id": "T7O3zNQ1LoUP",
        "colab": {
          "base_uri": "https://localhost:8080/"
        },
        "outputId": "c81e23ae-9c01-443c-a37b-c8bdca9b6096"
      },
      "execution_count": null,
      "outputs": [
        {
          "metadata": {
            "tags": null
          },
          "name": "stdout",
          "output_type": "stream",
          "text": [
            "Hello! I am the retrival Learning Bot, Start typing your text after greeting to talk to me. For ending convo type by! \n"
          ]
        }
      ]
    }
  ]
}